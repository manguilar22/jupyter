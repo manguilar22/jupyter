{
 "cells": [
  {
   "cell_type": "markdown",
   "metadata": {},
   "source": [
    "# Java - Objects"
   ]
  },
  {
   "cell_type": "code",
   "execution_count": 5,
   "metadata": {},
   "outputs": [],
   "source": [
    "public class Person {\n",
    "\n",
    "    private String name; \n",
    "    private int age; \n",
    "    \n",
    "    public Person(String name, int age){\n",
    "        this.name = name; \n",
    "        this.age = age; \n",
    "    }\n",
    "    \n",
    "    public void setName(String name){ \n",
    "        this.name = name; \n",
    "    }\n",
    "    \n",
    "    public void setAge(int age){\n",
    "        this.age = age; \n",
    "    }\n",
    "    \n",
    "    public String getName(){\n",
    "        return name;\n",
    "    }\n",
    "    \n",
    "    public int getAge(){\n",
    "        return age; \n",
    "    }\n",
    "}"
   ]
  },
  {
   "cell_type": "code",
   "execution_count": 7,
   "metadata": {},
   "outputs": [],
   "source": [
    " Person michael = new Person(\"Michael\", 15);"
   ]
  },
  {
   "cell_type": "code",
   "execution_count": 10,
   "metadata": {},
   "outputs": [
    {
     "name": "stdout",
     "output_type": "stream",
     "text": [
      "REPL.$JShell$12B$Person@3d02a6bd\n"
     ]
    }
   ],
   "source": [
    "System.out.println(michael); "
   ]
  },
  {
   "cell_type": "code",
   "execution_count": 11,
   "metadata": {},
   "outputs": [
    {
     "name": "stdout",
     "output_type": "stream",
     "text": [
      "Hi, my name is Michael\n"
     ]
    }
   ],
   "source": [
    "System.out.println(\"Hi, my name is \" + michael.getName()); "
   ]
  },
  {
   "cell_type": "code",
   "execution_count": null,
   "metadata": {},
   "outputs": [],
   "source": []
  }
 ],
 "metadata": {
  "kernelspec": {
   "display_name": "Java",
   "language": "java",
   "name": "java"
  },
  "language_info": {
   "codemirror_mode": "java",
   "file_extension": ".jshell",
   "mimetype": "text/x-java-source",
   "name": "Java",
   "pygments_lexer": "java",
   "version": "11.0.3+7-Ubuntu-1ubuntu218.04.1"
  }
 },
 "nbformat": 4,
 "nbformat_minor": 2
}
