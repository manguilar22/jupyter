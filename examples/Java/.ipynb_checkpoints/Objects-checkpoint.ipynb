{
 "cells": [
  {
   "cell_type": "markdown",
   "metadata": {},
   "source": [
    "# Java - Objects"
   ]
  },
  {
   "cell_type": "code",
   "execution_count": 1,
   "metadata": {},
   "outputs": [],
   "source": [
    "public class Person {\n",
    "\n",
    "    private String name; \n",
    "    private int age; \n",
    "    \n",
    "    public Person(String name, int age){\n",
    "        this.name = name; \n",
    "        this.age = age; \n",
    "    }\n",
    "    \n",
    "    public void setName(String name){ \n",
    "        this.name = name; \n",
    "    }\n",
    "    \n",
    "    public void setAge(int age){\n",
    "        this.age = age; \n",
    "    }\n",
    "    \n",
    "    public String getName(){\n",
    "        return name;\n",
    "    }\n",
    "    \n",
    "    public int getAge(){\n",
    "        return age; \n",
    "    }\n",
    "}"
   ]
  },
  {
   "cell_type": "code",
   "execution_count": 2,
   "metadata": {},
   "outputs": [],
   "source": [
    " Person michael = new Person(\"Michael\", 15);"
   ]
  },
  {
   "cell_type": "code",
   "execution_count": 3,
   "metadata": {},
   "outputs": [
    {
     "name": "stdout",
     "output_type": "stream",
     "text": [
      "REPL.$JShell$12$Person@74d385d\n"
     ]
    }
   ],
   "source": [
    "System.out.println(michael); "
   ]
  },
  {
   "cell_type": "code",
   "execution_count": 4,
   "metadata": {},
   "outputs": [
    {
     "name": "stdout",
     "output_type": "stream",
     "text": [
      "Hi, my name is Michael\n"
     ]
    }
   ],
   "source": [
    "System.out.println(\"Hi, my name is \" + michael.getName()); "
   ]
  },
  {
   "cell_type": "code",
   "execution_count": 5,
   "metadata": {},
   "outputs": [
    {
     "name": "stdout",
     "output_type": "stream",
     "text": [
      "Hi, my age is 15\n"
     ]
    }
   ],
   "source": [
    "System.out.println(\"Hi, my age is \" + michael.getAge()); "
   ]
  }
 ],
 "metadata": {
  "kernelspec": {
   "display_name": "Java",
   "language": "java",
   "name": "java"
  },
  "language_info": {
   "codemirror_mode": "java",
   "file_extension": ".jshell",
   "mimetype": "text/x-java-source",
   "name": "Java",
   "pygments_lexer": "java",
   "version": "11.0.3+7-Ubuntu-1ubuntu218.04.1"
  }
 },
 "nbformat": 4,
 "nbformat_minor": 2
}
